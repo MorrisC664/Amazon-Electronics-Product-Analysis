{
  "nbformat": 4,
  "nbformat_minor": 0,
  "metadata": {
    "colab": {
      "provenance": [],
      "authorship_tag": "ABX9TyMCdmsR49dg+smlhHn445OQ",
      "include_colab_link": true
    },
    "kernelspec": {
      "name": "python3",
      "display_name": "Python 3"
    },
    "language_info": {
      "name": "python"
    }
  },
  "cells": [
    {
      "cell_type": "markdown",
      "metadata": {
        "id": "view-in-github",
        "colab_type": "text"
      },
      "source": [
        "<a href=\"https://colab.research.google.com/github/MorrisC664/Amazon-Electronics-Product-Analysis/blob/main/amazon_analysis.ipynb\" target=\"_parent\"><img src=\"https://colab.research.google.com/assets/colab-badge.svg\" alt=\"Open In Colab\"/></a>"
      ]
    },
    {
      "cell_type": "code",
      "source": [
        "#install packages\n",
        "!pip install requests beautifulsoup4 textblob wordcloud reportlab\n"
      ],
      "metadata": {
        "colab": {
          "base_uri": "https://localhost:8080/"
        },
        "id": "ufQgF0OaG3zP",
        "outputId": "6847fa43-cd97-4972-f2c0-873f4a6046f4"
      },
      "execution_count": 2,
      "outputs": [
        {
          "output_type": "stream",
          "name": "stdout",
          "text": [
            "Requirement already satisfied: requests in /usr/local/lib/python3.11/dist-packages (2.32.3)\n",
            "Requirement already satisfied: beautifulsoup4 in /usr/local/lib/python3.11/dist-packages (4.13.3)\n",
            "Requirement already satisfied: textblob in /usr/local/lib/python3.11/dist-packages (0.19.0)\n",
            "Requirement already satisfied: wordcloud in /usr/local/lib/python3.11/dist-packages (1.9.4)\n",
            "Collecting reportlab\n",
            "  Downloading reportlab-4.3.1-py3-none-any.whl.metadata (1.7 kB)\n",
            "Requirement already satisfied: charset-normalizer<4,>=2 in /usr/local/lib/python3.11/dist-packages (from requests) (3.4.1)\n",
            "Requirement already satisfied: idna<4,>=2.5 in /usr/local/lib/python3.11/dist-packages (from requests) (3.10)\n",
            "Requirement already satisfied: urllib3<3,>=1.21.1 in /usr/local/lib/python3.11/dist-packages (from requests) (2.3.0)\n",
            "Requirement already satisfied: certifi>=2017.4.17 in /usr/local/lib/python3.11/dist-packages (from requests) (2025.1.31)\n",
            "Requirement already satisfied: soupsieve>1.2 in /usr/local/lib/python3.11/dist-packages (from beautifulsoup4) (2.6)\n",
            "Requirement already satisfied: typing-extensions>=4.0.0 in /usr/local/lib/python3.11/dist-packages (from beautifulsoup4) (4.13.1)\n",
            "Requirement already satisfied: nltk>=3.9 in /usr/local/lib/python3.11/dist-packages (from textblob) (3.9.1)\n",
            "Requirement already satisfied: numpy>=1.6.1 in /usr/local/lib/python3.11/dist-packages (from wordcloud) (2.0.2)\n",
            "Requirement already satisfied: pillow in /usr/local/lib/python3.11/dist-packages (from wordcloud) (11.1.0)\n",
            "Requirement already satisfied: matplotlib in /usr/local/lib/python3.11/dist-packages (from wordcloud) (3.10.0)\n",
            "Requirement already satisfied: chardet in /usr/local/lib/python3.11/dist-packages (from reportlab) (5.2.0)\n",
            "Requirement already satisfied: click in /usr/local/lib/python3.11/dist-packages (from nltk>=3.9->textblob) (8.1.8)\n",
            "Requirement already satisfied: joblib in /usr/local/lib/python3.11/dist-packages (from nltk>=3.9->textblob) (1.4.2)\n",
            "Requirement already satisfied: regex>=2021.8.3 in /usr/local/lib/python3.11/dist-packages (from nltk>=3.9->textblob) (2024.11.6)\n",
            "Requirement already satisfied: tqdm in /usr/local/lib/python3.11/dist-packages (from nltk>=3.9->textblob) (4.67.1)\n",
            "Requirement already satisfied: contourpy>=1.0.1 in /usr/local/lib/python3.11/dist-packages (from matplotlib->wordcloud) (1.3.1)\n",
            "Requirement already satisfied: cycler>=0.10 in /usr/local/lib/python3.11/dist-packages (from matplotlib->wordcloud) (0.12.1)\n",
            "Requirement already satisfied: fonttools>=4.22.0 in /usr/local/lib/python3.11/dist-packages (from matplotlib->wordcloud) (4.57.0)\n",
            "Requirement already satisfied: kiwisolver>=1.3.1 in /usr/local/lib/python3.11/dist-packages (from matplotlib->wordcloud) (1.4.8)\n",
            "Requirement already satisfied: packaging>=20.0 in /usr/local/lib/python3.11/dist-packages (from matplotlib->wordcloud) (24.2)\n",
            "Requirement already satisfied: pyparsing>=2.3.1 in /usr/local/lib/python3.11/dist-packages (from matplotlib->wordcloud) (3.2.3)\n",
            "Requirement already satisfied: python-dateutil>=2.7 in /usr/local/lib/python3.11/dist-packages (from matplotlib->wordcloud) (2.8.2)\n",
            "Requirement already satisfied: six>=1.5 in /usr/local/lib/python3.11/dist-packages (from python-dateutil>=2.7->matplotlib->wordcloud) (1.17.0)\n",
            "Downloading reportlab-4.3.1-py3-none-any.whl (1.9 MB)\n",
            "\u001b[2K   \u001b[90m━━━━━━━━━━━━━━━━━━━━━━━━━━━━━━━━━━━━━━━━\u001b[0m \u001b[32m1.9/1.9 MB\u001b[0m \u001b[31m50.9 MB/s\u001b[0m eta \u001b[36m0:00:00\u001b[0m\n",
            "\u001b[?25hInstalling collected packages: reportlab\n",
            "Successfully installed reportlab-4.3.1\n"
          ]
        }
      ]
    },
    {
      "cell_type": "code",
      "source": [
        "# Core modules\n",
        "import requests\n",
        "from bs4 import BeautifulSoup\n",
        "import pandas as pd\n",
        "import matplotlib.pyplot as plt\n",
        "import seaborn as sns\n",
        "\n",
        "# NLP tools\n",
        "from textblob import TextBlob\n",
        "from wordcloud import WordCloud\n",
        "\n",
        "# PDF output\n",
        "from reportlab.pdfgen import canvas\n",
        "from reportlab.lib.pagesizes import A4\n",
        "from reportlab.lib.units import inch\n",
        "\n",
        "# Settings\n",
        "pd.set_option('display.max_colwidth', 100)\n",
        "sns.set(style='whitegrid')\n"
      ],
      "metadata": {
        "id": "x_fAdVAXHVhH"
      },
      "execution_count": 3,
      "outputs": []
    },
    {
      "cell_type": "code",
      "source": [
        "headers = {\n",
        "    \"User-Agent\": (\n",
        "        \"Mozilla/5.0 (Windows NT 10.0; Win64; x64) \"\n",
        "        \"AppleWebKit/537.36 (KHTML, like Gecko) \"\n",
        "        \"Chrome/120.0.0.0 Safari/537.36\"\n",
        "    )\n",
        "}\n"
      ],
      "metadata": {
        "id": "MuXqwtS5HYtU"
      },
      "execution_count": 4,
      "outputs": []
    },
    {
      "cell_type": "code",
      "source": [
        "#test the link\n",
        "url = \"https://www.amazon.com/Best-Sellers-Electronics/zgbs/electronics\"\n",
        "response = requests.get(url, headers=headers)\n",
        "\n",
        "# Show status and preview HTML\n",
        "print(\"Status Code:\", response.status_code)\n",
        "print(response.text[:1000])\n"
      ],
      "metadata": {
        "colab": {
          "base_uri": "https://localhost:8080/"
        },
        "id": "yFv_3OuTHbby",
        "outputId": "2df30288-8b6c-4c29-d12f-25e6c6c91832"
      },
      "execution_count": 6,
      "outputs": [
        {
          "output_type": "stream",
          "name": "stdout",
          "text": [
            "Status Code: 200\n",
            "<!doctype html><html lang=\"en-us\" class=\"a-no-js\" data-19ax5a9jf=\"dingo\"><!-- sp:feature:head-start -->\n",
            "<head><script>var aPageStart = (new Date()).getTime();</script><meta charset=\"utf-8\"/>\n",
            "<!-- sp:end-feature:head-start -->\n",
            "<!-- sp:feature:csm:head-open-part1 -->\n",
            "\n",
            "<script type='text/javascript'>var ue_t0=ue_t0||+new Date();</script>\n",
            "<!-- sp:end-feature:csm:head-open-part1 -->\n",
            "<!-- sp:feature:cs-optimization -->\n",
            "<meta http-equiv='x-dns-prefetch-control' content='on'>\n",
            "<link rel=\"dns-prefetch\" href=\"https://images-na.ssl-images-amazon.com\">\n",
            "<link rel=\"dns-prefetch\" href=\"https://m.media-amazon.com\">\n",
            "<link rel=\"dns-prefetch\" href=\"https://completion.amazon.com\">\n",
            "<!-- sp:end-feature:cs-optimization -->\n",
            "<!-- sp:feature:csm:head-open-part2 -->\n",
            "<script type='text/javascript'>\n",
            "window.ue_ihb = (window.ue_ihb || window.ueinit || 0) + 1;\n",
            "if (window.ue_ihb === 1) {\n",
            "\n",
            "var ue_csm = window,\n",
            "    ue_hob = +new Date();\n",
            "(function(d){var e=d.ue=d.ue||{},f=Date.now||function(){return+new Date};e.d=function\n"
          ]
        }
      ]
    },
    {
      "cell_type": "code",
      "source": [
        "#get the product information\n",
        "def scrape_amazon_bestsellers(url, headers, max_items=20):\n",
        "    response = requests.get(url, headers=headers)\n",
        "    soup = BeautifulSoup(response.text, \"html.parser\")\n",
        "\n",
        "    products = []\n",
        "    count = 0\n",
        "\n",
        "    for item in soup.select(\"div.zg-grid-general-faceout\"):\n",
        "        if count >= max_items:\n",
        "            break\n",
        "\n",
        "        # Extract title\n",
        "        title_tag = item.select_one(\"div.p13n-sc-truncate-desktop-type2, div._cDEzb_p13n-sc-css-line-clamp-3_g3dy1\")\n",
        "        title = title_tag.text.strip() if title_tag else \"N/A\"\n",
        "\n",
        "        # Extract product URL\n",
        "        link_tag = item.find(\"a\", href=True)\n",
        "        product_url = \"https://www.amazon.com\" + link_tag[\"href\"] if link_tag else \"N/A\"\n",
        "\n",
        "        # Extract rating\n",
        "        rating_tag = item.select_one(\"span.a-icon-alt\")\n",
        "        rating = rating_tag.text.split()[0] if rating_tag else \"N/A\"\n",
        "\n",
        "        # Extract number of reviews\n",
        "        review_tag = item.select_one(\"span.a-size-small\")\n",
        "        num_reviews = review_tag.text.strip().replace(\",\", \"\") if review_tag else \"0\"\n",
        "\n",
        "        # Extract price\n",
        "        def extract_price(item):\n",
        "            # Indented the lines within the function\n",
        "            price_tag = item.select_one(\"span.p13n-sc-price\")\n",
        "            if not price_tag:\n",
        "                price_tag = item.select_one(\"span.a-price-whole\")\n",
        "            if not price_tag:\n",
        "                price_tag = item.select_one(\"span.a-color-price\")\n",
        "            return price_tag.text.replace(\"$\", \"\").strip() if price_tag else \"N/A\"\n",
        "\n",
        "        price = extract_price(item) # Call the function and assign the result to price\n",
        "\n",
        "\n",
        "        products.append({\n",
        "            \"Title\": title,\n",
        "            \"URL\": product_url,\n",
        "            \"Rating\": rating,\n",
        "            \"Reviews\": int(num_reviews),\n",
        "            \"Price (USD)\": price\n",
        "        })\n",
        "\n",
        "        count += 1\n",
        "\n",
        "    return pd.DataFrame(products)\n"
      ],
      "metadata": {
        "id": "dY4fUZiOHnd7"
      },
      "execution_count": 12,
      "outputs": []
    },
    {
      "cell_type": "code",
      "source": [
        "#check if we could get the product information correctly\n",
        "url = \"https://www.amazon.com/Best-Sellers-Electronics/zgbs/electronics\"\n",
        "df_products = scrape_amazon_bestsellers(url, headers, max_items=20)\n",
        "\n",
        "# Show preview\n",
        "df_products.head()\n"
      ],
      "metadata": {
        "colab": {
          "base_uri": "https://localhost:8080/",
          "height": 449
        },
        "id": "s5Hm-itDHqVw",
        "outputId": "aa6331e5-6990-4073-c9b7-142a72b8f740"
      },
      "execution_count": 13,
      "outputs": [
        {
          "output_type": "execute_result",
          "data": {
            "text/plain": [
              "                                                                                                 Title  \\\n",
              "0  Amazon Fire TV Stick HD (newest model), free and live TV, Alexa Voice Remote, smart home control...   \n",
              "1                                                                                         Apple AirTag   \n",
              "2  Apple AirPods Pro 2 Wireless Earbuds, Bluetooth Headphones, Active Noise Cancellation, Hearing A...   \n",
              "3                                                                                  Apple AirTag 4 Pack   \n",
              "4  Amazon Fire TV Stick 4K (newest model) with AI-powered Fire TV Search, Wi-Fi 6, stream over 1.5 ...   \n",
              "\n",
              "                                                                                                   URL  \\\n",
              "0  https://www.amazon.com/amazon-fire-tv-stick-hd/dp/B0CQMRKRV5/ref=zg_bs_g_electronics_d_sccl_1/14...   \n",
              "1  https://www.amazon.com/Apple-MX532LL-A-AirTag/dp/B0CWXNS552/ref=zg_bs_g_electronics_d_sccl_2/146...   \n",
              "2  https://www.amazon.com/Apple-Cancellation-Transparency-Personalized-High-Fidelity/dp/B0D1XD1ZV3/...   \n",
              "3  https://www.amazon.com/Apple-MX542LL-A-AirTag-Pack/dp/B0D54JZTHY/ref=zg_bs_g_electronics_d_sccl_...   \n",
              "4  https://www.amazon.com/Amazon-Fire-TV-Stick-4K-streaming-device/dp/B0CJM1GNFQ/ref=zg_bs_g_electr...   \n",
              "\n",
              "  Rating  Reviews Price (USD)  \n",
              "0    4.6    11818       19.99  \n",
              "1    4.6    26475       24.95  \n",
              "2    4.6    24557      189.99  \n",
              "3    4.7    18801       79.98  \n",
              "4    4.7    63184       29.99  "
            ],
            "text/html": [
              "\n",
              "  <div id=\"df-9706f4ef-0df0-4390-a6ea-e8cbf73ebead\" class=\"colab-df-container\">\n",
              "    <div>\n",
              "<style scoped>\n",
              "    .dataframe tbody tr th:only-of-type {\n",
              "        vertical-align: middle;\n",
              "    }\n",
              "\n",
              "    .dataframe tbody tr th {\n",
              "        vertical-align: top;\n",
              "    }\n",
              "\n",
              "    .dataframe thead th {\n",
              "        text-align: right;\n",
              "    }\n",
              "</style>\n",
              "<table border=\"1\" class=\"dataframe\">\n",
              "  <thead>\n",
              "    <tr style=\"text-align: right;\">\n",
              "      <th></th>\n",
              "      <th>Title</th>\n",
              "      <th>URL</th>\n",
              "      <th>Rating</th>\n",
              "      <th>Reviews</th>\n",
              "      <th>Price (USD)</th>\n",
              "    </tr>\n",
              "  </thead>\n",
              "  <tbody>\n",
              "    <tr>\n",
              "      <th>0</th>\n",
              "      <td>Amazon Fire TV Stick HD (newest model), free and live TV, Alexa Voice Remote, smart home control...</td>\n",
              "      <td>https://www.amazon.com/amazon-fire-tv-stick-hd/dp/B0CQMRKRV5/ref=zg_bs_g_electronics_d_sccl_1/14...</td>\n",
              "      <td>4.6</td>\n",
              "      <td>11818</td>\n",
              "      <td>19.99</td>\n",
              "    </tr>\n",
              "    <tr>\n",
              "      <th>1</th>\n",
              "      <td>Apple AirTag</td>\n",
              "      <td>https://www.amazon.com/Apple-MX532LL-A-AirTag/dp/B0CWXNS552/ref=zg_bs_g_electronics_d_sccl_2/146...</td>\n",
              "      <td>4.6</td>\n",
              "      <td>26475</td>\n",
              "      <td>24.95</td>\n",
              "    </tr>\n",
              "    <tr>\n",
              "      <th>2</th>\n",
              "      <td>Apple AirPods Pro 2 Wireless Earbuds, Bluetooth Headphones, Active Noise Cancellation, Hearing A...</td>\n",
              "      <td>https://www.amazon.com/Apple-Cancellation-Transparency-Personalized-High-Fidelity/dp/B0D1XD1ZV3/...</td>\n",
              "      <td>4.6</td>\n",
              "      <td>24557</td>\n",
              "      <td>189.99</td>\n",
              "    </tr>\n",
              "    <tr>\n",
              "      <th>3</th>\n",
              "      <td>Apple AirTag 4 Pack</td>\n",
              "      <td>https://www.amazon.com/Apple-MX542LL-A-AirTag-Pack/dp/B0D54JZTHY/ref=zg_bs_g_electronics_d_sccl_...</td>\n",
              "      <td>4.7</td>\n",
              "      <td>18801</td>\n",
              "      <td>79.98</td>\n",
              "    </tr>\n",
              "    <tr>\n",
              "      <th>4</th>\n",
              "      <td>Amazon Fire TV Stick 4K (newest model) with AI-powered Fire TV Search, Wi-Fi 6, stream over 1.5 ...</td>\n",
              "      <td>https://www.amazon.com/Amazon-Fire-TV-Stick-4K-streaming-device/dp/B0CJM1GNFQ/ref=zg_bs_g_electr...</td>\n",
              "      <td>4.7</td>\n",
              "      <td>63184</td>\n",
              "      <td>29.99</td>\n",
              "    </tr>\n",
              "  </tbody>\n",
              "</table>\n",
              "</div>\n",
              "    <div class=\"colab-df-buttons\">\n",
              "\n",
              "  <div class=\"colab-df-container\">\n",
              "    <button class=\"colab-df-convert\" onclick=\"convertToInteractive('df-9706f4ef-0df0-4390-a6ea-e8cbf73ebead')\"\n",
              "            title=\"Convert this dataframe to an interactive table.\"\n",
              "            style=\"display:none;\">\n",
              "\n",
              "  <svg xmlns=\"http://www.w3.org/2000/svg\" height=\"24px\" viewBox=\"0 -960 960 960\">\n",
              "    <path d=\"M120-120v-720h720v720H120Zm60-500h600v-160H180v160Zm220 220h160v-160H400v160Zm0 220h160v-160H400v160ZM180-400h160v-160H180v160Zm440 0h160v-160H620v160ZM180-180h160v-160H180v160Zm440 0h160v-160H620v160Z\"/>\n",
              "  </svg>\n",
              "    </button>\n",
              "\n",
              "  <style>\n",
              "    .colab-df-container {\n",
              "      display:flex;\n",
              "      gap: 12px;\n",
              "    }\n",
              "\n",
              "    .colab-df-convert {\n",
              "      background-color: #E8F0FE;\n",
              "      border: none;\n",
              "      border-radius: 50%;\n",
              "      cursor: pointer;\n",
              "      display: none;\n",
              "      fill: #1967D2;\n",
              "      height: 32px;\n",
              "      padding: 0 0 0 0;\n",
              "      width: 32px;\n",
              "    }\n",
              "\n",
              "    .colab-df-convert:hover {\n",
              "      background-color: #E2EBFA;\n",
              "      box-shadow: 0px 1px 2px rgba(60, 64, 67, 0.3), 0px 1px 3px 1px rgba(60, 64, 67, 0.15);\n",
              "      fill: #174EA6;\n",
              "    }\n",
              "\n",
              "    .colab-df-buttons div {\n",
              "      margin-bottom: 4px;\n",
              "    }\n",
              "\n",
              "    [theme=dark] .colab-df-convert {\n",
              "      background-color: #3B4455;\n",
              "      fill: #D2E3FC;\n",
              "    }\n",
              "\n",
              "    [theme=dark] .colab-df-convert:hover {\n",
              "      background-color: #434B5C;\n",
              "      box-shadow: 0px 1px 3px 1px rgba(0, 0, 0, 0.15);\n",
              "      filter: drop-shadow(0px 1px 2px rgba(0, 0, 0, 0.3));\n",
              "      fill: #FFFFFF;\n",
              "    }\n",
              "  </style>\n",
              "\n",
              "    <script>\n",
              "      const buttonEl =\n",
              "        document.querySelector('#df-9706f4ef-0df0-4390-a6ea-e8cbf73ebead button.colab-df-convert');\n",
              "      buttonEl.style.display =\n",
              "        google.colab.kernel.accessAllowed ? 'block' : 'none';\n",
              "\n",
              "      async function convertToInteractive(key) {\n",
              "        const element = document.querySelector('#df-9706f4ef-0df0-4390-a6ea-e8cbf73ebead');\n",
              "        const dataTable =\n",
              "          await google.colab.kernel.invokeFunction('convertToInteractive',\n",
              "                                                    [key], {});\n",
              "        if (!dataTable) return;\n",
              "\n",
              "        const docLinkHtml = 'Like what you see? Visit the ' +\n",
              "          '<a target=\"_blank\" href=https://colab.research.google.com/notebooks/data_table.ipynb>data table notebook</a>'\n",
              "          + ' to learn more about interactive tables.';\n",
              "        element.innerHTML = '';\n",
              "        dataTable['output_type'] = 'display_data';\n",
              "        await google.colab.output.renderOutput(dataTable, element);\n",
              "        const docLink = document.createElement('div');\n",
              "        docLink.innerHTML = docLinkHtml;\n",
              "        element.appendChild(docLink);\n",
              "      }\n",
              "    </script>\n",
              "  </div>\n",
              "\n",
              "\n",
              "<div id=\"df-832192df-03e4-472d-979d-2508aba434b3\">\n",
              "  <button class=\"colab-df-quickchart\" onclick=\"quickchart('df-832192df-03e4-472d-979d-2508aba434b3')\"\n",
              "            title=\"Suggest charts\"\n",
              "            style=\"display:none;\">\n",
              "\n",
              "<svg xmlns=\"http://www.w3.org/2000/svg\" height=\"24px\"viewBox=\"0 0 24 24\"\n",
              "     width=\"24px\">\n",
              "    <g>\n",
              "        <path d=\"M19 3H5c-1.1 0-2 .9-2 2v14c0 1.1.9 2 2 2h14c1.1 0 2-.9 2-2V5c0-1.1-.9-2-2-2zM9 17H7v-7h2v7zm4 0h-2V7h2v10zm4 0h-2v-4h2v4z\"/>\n",
              "    </g>\n",
              "</svg>\n",
              "  </button>\n",
              "\n",
              "<style>\n",
              "  .colab-df-quickchart {\n",
              "      --bg-color: #E8F0FE;\n",
              "      --fill-color: #1967D2;\n",
              "      --hover-bg-color: #E2EBFA;\n",
              "      --hover-fill-color: #174EA6;\n",
              "      --disabled-fill-color: #AAA;\n",
              "      --disabled-bg-color: #DDD;\n",
              "  }\n",
              "\n",
              "  [theme=dark] .colab-df-quickchart {\n",
              "      --bg-color: #3B4455;\n",
              "      --fill-color: #D2E3FC;\n",
              "      --hover-bg-color: #434B5C;\n",
              "      --hover-fill-color: #FFFFFF;\n",
              "      --disabled-bg-color: #3B4455;\n",
              "      --disabled-fill-color: #666;\n",
              "  }\n",
              "\n",
              "  .colab-df-quickchart {\n",
              "    background-color: var(--bg-color);\n",
              "    border: none;\n",
              "    border-radius: 50%;\n",
              "    cursor: pointer;\n",
              "    display: none;\n",
              "    fill: var(--fill-color);\n",
              "    height: 32px;\n",
              "    padding: 0;\n",
              "    width: 32px;\n",
              "  }\n",
              "\n",
              "  .colab-df-quickchart:hover {\n",
              "    background-color: var(--hover-bg-color);\n",
              "    box-shadow: 0 1px 2px rgba(60, 64, 67, 0.3), 0 1px 3px 1px rgba(60, 64, 67, 0.15);\n",
              "    fill: var(--button-hover-fill-color);\n",
              "  }\n",
              "\n",
              "  .colab-df-quickchart-complete:disabled,\n",
              "  .colab-df-quickchart-complete:disabled:hover {\n",
              "    background-color: var(--disabled-bg-color);\n",
              "    fill: var(--disabled-fill-color);\n",
              "    box-shadow: none;\n",
              "  }\n",
              "\n",
              "  .colab-df-spinner {\n",
              "    border: 2px solid var(--fill-color);\n",
              "    border-color: transparent;\n",
              "    border-bottom-color: var(--fill-color);\n",
              "    animation:\n",
              "      spin 1s steps(1) infinite;\n",
              "  }\n",
              "\n",
              "  @keyframes spin {\n",
              "    0% {\n",
              "      border-color: transparent;\n",
              "      border-bottom-color: var(--fill-color);\n",
              "      border-left-color: var(--fill-color);\n",
              "    }\n",
              "    20% {\n",
              "      border-color: transparent;\n",
              "      border-left-color: var(--fill-color);\n",
              "      border-top-color: var(--fill-color);\n",
              "    }\n",
              "    30% {\n",
              "      border-color: transparent;\n",
              "      border-left-color: var(--fill-color);\n",
              "      border-top-color: var(--fill-color);\n",
              "      border-right-color: var(--fill-color);\n",
              "    }\n",
              "    40% {\n",
              "      border-color: transparent;\n",
              "      border-right-color: var(--fill-color);\n",
              "      border-top-color: var(--fill-color);\n",
              "    }\n",
              "    60% {\n",
              "      border-color: transparent;\n",
              "      border-right-color: var(--fill-color);\n",
              "    }\n",
              "    80% {\n",
              "      border-color: transparent;\n",
              "      border-right-color: var(--fill-color);\n",
              "      border-bottom-color: var(--fill-color);\n",
              "    }\n",
              "    90% {\n",
              "      border-color: transparent;\n",
              "      border-bottom-color: var(--fill-color);\n",
              "    }\n",
              "  }\n",
              "</style>\n",
              "\n",
              "  <script>\n",
              "    async function quickchart(key) {\n",
              "      const quickchartButtonEl =\n",
              "        document.querySelector('#' + key + ' button');\n",
              "      quickchartButtonEl.disabled = true;  // To prevent multiple clicks.\n",
              "      quickchartButtonEl.classList.add('colab-df-spinner');\n",
              "      try {\n",
              "        const charts = await google.colab.kernel.invokeFunction(\n",
              "            'suggestCharts', [key], {});\n",
              "      } catch (error) {\n",
              "        console.error('Error during call to suggestCharts:', error);\n",
              "      }\n",
              "      quickchartButtonEl.classList.remove('colab-df-spinner');\n",
              "      quickchartButtonEl.classList.add('colab-df-quickchart-complete');\n",
              "    }\n",
              "    (() => {\n",
              "      let quickchartButtonEl =\n",
              "        document.querySelector('#df-832192df-03e4-472d-979d-2508aba434b3 button');\n",
              "      quickchartButtonEl.style.display =\n",
              "        google.colab.kernel.accessAllowed ? 'block' : 'none';\n",
              "    })();\n",
              "  </script>\n",
              "</div>\n",
              "\n",
              "    </div>\n",
              "  </div>\n"
            ],
            "application/vnd.google.colaboratory.intrinsic+json": {
              "type": "dataframe",
              "variable_name": "df_products",
              "summary": "{\n  \"name\": \"df_products\",\n  \"rows\": 20,\n  \"fields\": [\n    {\n      \"column\": \"Title\",\n      \"properties\": {\n        \"dtype\": \"string\",\n        \"num_unique_values\": 20,\n        \"samples\": [\n          \"Amazon Fire TV Stick HD (newest model), free and live TV, Alexa Voice Remote, smart home controls, HD streaming\",\n          \"JBL Tune 510BT - Bluetooth headphones with up to 40 hours battery, microphone for call, foldable and comfortable, Android and iOs compatible (Black)\",\n          \"Roku Express | HD Roku Streaming Device with Standard Remote (no TV controls), Free & Live TV\"\n        ],\n        \"semantic_type\": \"\",\n        \"description\": \"\"\n      }\n    },\n    {\n      \"column\": \"URL\",\n      \"properties\": {\n        \"dtype\": \"string\",\n        \"num_unique_values\": 20,\n        \"samples\": [\n          \"https://www.amazon.com/amazon-fire-tv-stick-hd/dp/B0CQMRKRV5/ref=zg_bs_g_electronics_d_sccl_1/146-3324066-2271463?psc=1\",\n          \"https://www.amazon.com/JBL-Tune-510BT-Ear-Headphones/dp/B08WM3LMJF/ref=zg_bs_g_electronics_d_sccl_18/146-3324066-2271463?psc=1\",\n          \"https://www.amazon.com/Roku-Express-Streaming-High-Speed-controls/dp/B0BCH5H2R3/ref=zg_bs_g_electronics_d_sccl_16/146-3324066-2271463?psc=1\"\n        ],\n        \"semantic_type\": \"\",\n        \"description\": \"\"\n      }\n    },\n    {\n      \"column\": \"Rating\",\n      \"properties\": {\n        \"dtype\": \"category\",\n        \"num_unique_values\": 6,\n        \"samples\": [\n          \"4.6\",\n          \"4.7\",\n          \"4.3\"\n        ],\n        \"semantic_type\": \"\",\n        \"description\": \"\"\n      }\n    },\n    {\n      \"column\": \"Reviews\",\n      \"properties\": {\n        \"dtype\": \"number\",\n        \"std\": 31467,\n        \"min\": 748,\n        \"max\": 95113,\n        \"num_unique_values\": 19,\n        \"samples\": [\n          11818,\n          49892,\n          52542\n        ],\n        \"semantic_type\": \"\",\n        \"description\": \"\"\n      }\n    },\n    {\n      \"column\": \"Price (USD)\",\n      \"properties\": {\n        \"dtype\": \"string\",\n        \"num_unique_values\": 18,\n        \"samples\": [\n          \"19.99\",\n          \"24.95\",\n          \"15.96\"\n        ],\n        \"semantic_type\": \"\",\n        \"description\": \"\"\n      }\n    }\n  ]\n}"
            }
          },
          "metadata": {},
          "execution_count": 13
        }
      ]
    },
    {
      "cell_type": "code",
      "source": [
        "# Convert price and rating to numeric\n",
        "df_products[\"Price (USD)\"] = pd.to_numeric(df_products[\"Price (USD)\"], errors=\"coerce\")\n",
        "df_products[\"Rating\"] = pd.to_numeric(df_products[\"Rating\"], errors=\"coerce\")\n"
      ],
      "metadata": {
        "id": "eJsOrOHsIAkA"
      },
      "execution_count": 14,
      "outputs": []
    },
    {
      "cell_type": "code",
      "source": [
        "#plot price distribution\n",
        "plt.figure(figsize=(8, 5))\n",
        "sns.histplot(df_products[\"Price (USD)\"].dropna(), bins=10, kde=True)\n",
        "plt.title(\"Price Distribution of Amazon Electronics Bestsellers\")\n",
        "plt.xlabel(\"Price (USD)\")\n",
        "plt.ylabel(\"Number of Products\")\n",
        "plt.tight_layout()\n",
        "plt.show()\n"
      ],
      "metadata": {
        "colab": {
          "base_uri": "https://localhost:8080/",
          "height": 501
        },
        "id": "TIIKd27oIC-X",
        "outputId": "e0abb915-23e7-445d-a478-411ef07a8d0e"
      },
      "execution_count": 15,
      "outputs": [
        {
          "output_type": "display_data",
          "data": {
            "text/plain": [
              "<Figure size 800x500 with 1 Axes>"
            ],
            "image/png": "[encoded data removed]"
          },
          "metadata": {}
        }
      ]
    },
    {
      "cell_type": "code",
      "source": [
        "#plot rating distribution\n",
        "plt.figure(figsize=(8, 5))\n",
        "sns.histplot(df_products[\"Rating\"].dropna(), bins=10, kde=True)\n",
        "plt.title(\"Rating Distribution of Amazon Electronics Bestsellers\")\n",
        "plt.xlabel(\"Rating\")\n",
        "plt.ylabel(\"Number of Products\")\n",
        "plt.tight_layout()\n",
        "plt.show()\n"
      ],
      "metadata": {
        "colab": {
          "base_uri": "https://localhost:8080/",
          "height": 501
        },
        "id": "5yVO-LuZLA4U",
        "outputId": "2983433d-4ee1-4a7c-bd5e-21728778232c"
      },
      "execution_count": 16,
      "outputs": [
        {
          "output_type": "display_data",
          "data": {
            "text/plain": [
              "<Figure size 800x500 with 1 Axes>"
            ],
            "image/png": "[encoded data removed]"
          },
          "metadata": {}
        }
      ]
    },
    {
      "cell_type": "code",
      "source": [
        "#plot price vs rating with reviews\n",
        "plt.figure(figsize=(8, 6))\n",
        "sns.scatterplot(data=df_products, x=\"Price (USD)\", y=\"Rating\", size=\"Reviews\", sizes=(20, 200), alpha=0.7)\n",
        "plt.title(\"Price vs Rating (Bubble Size = Number of Reviews)\")\n",
        "plt.xlabel(\"Price (USD)\")\n",
        "plt.ylabel(\"Rating\")\n",
        "plt.tight_layout()\n",
        "plt.show()\n"
      ],
      "metadata": {
        "colab": {
          "base_uri": "https://localhost:8080/",
          "height": 601
        },
        "id": "1QRtqGSGLDpn",
        "outputId": "03f60c88-0626-4b86-8c11-311d576a34d7"
      },
      "execution_count": 17,
      "outputs": [
        {
          "output_type": "display_data",
          "data": {
            "text/plain": [
              "<Figure size 800x600 with 1 Axes>"
            ],
            "image/png": "[encoded data removed]"
          },
          "metadata": {}
        }
      ]
    },
    {
      "cell_type": "code",
      "source": [
        "# Ensure numerical format\n",
        "df_products[\"Price (USD)\"] = pd.to_numeric(df_products[\"Price (USD)\"], errors=\"coerce\")\n",
        "df_products[\"Rating\"] = pd.to_numeric(df_products[\"Rating\"], errors=\"coerce\")\n",
        "df_products[\"Reviews\"] = pd.to_numeric(df_products[\"Reviews\"], errors=\"coerce\")\n",
        "\n",
        "# Add a new column: title length\n",
        "df_products[\"Title Length\"] = df_products[\"Title\"].apply(lambda x: len(x))\n"
      ],
      "metadata": {
        "id": "sVedMCtPLjkL"
      },
      "execution_count": 18,
      "outputs": []
    },
    {
      "cell_type": "code",
      "source": [
        "#plot price vs rating\n",
        "plt.figure(figsize=(8, 6))\n",
        "sns.scatterplot(data=df_products, x=\"Price (USD)\", y=\"Rating\")\n",
        "plt.title(\"Price vs. Rating\")\n",
        "plt.xlabel(\"Price (USD)\")\n",
        "plt.ylabel(\"Rating\")\n",
        "plt.tight_layout()\n",
        "plt.show()\n"
      ],
      "metadata": {
        "colab": {
          "base_uri": "https://localhost:8080/",
          "height": 601
        },
        "id": "djN6xp8MLl1X",
        "outputId": "131ff96a-e714-4b80-df66-3e24b7b7aab0"
      },
      "execution_count": 19,
      "outputs": [
        {
          "output_type": "display_data",
          "data": {
            "text/plain": [
              "<Figure size 800x600 with 1 Axes>"
            ],
            "image/png": "[encoded data removed]"
          },
          "metadata": {}
        }
      ]
    },
    {
      "cell_type": "code",
      "source": [
        "#plot price vs reviews\n",
        "plt.figure(figsize=(8, 6))\n",
        "sns.scatterplot(data=df_products, x=\"Price (USD)\", y=\"Reviews\")\n",
        "plt.title(\"Price vs. Number of Reviews\")\n",
        "plt.xlabel(\"Price (USD)\")\n",
        "plt.ylabel(\"Number of Reviews\")\n",
        "plt.tight_layout()\n",
        "plt.show()\n"
      ],
      "metadata": {
        "colab": {
          "base_uri": "https://localhost:8080/",
          "height": 601
        },
        "id": "b0GlExsVLo0q",
        "outputId": "4b2252de-e292-4e6b-855f-a8cac2637ea3"
      },
      "execution_count": 20,
      "outputs": [
        {
          "output_type": "display_data",
          "data": {
            "text/plain": [
              "<Figure size 800x600 with 1 Axes>"
            ],
            "image/png": "[encoded data removed]"
          },
          "metadata": {}
        }
      ]
    },
    {
      "cell_type": "code",
      "source": [
        "#plot title vs rating\n",
        "plt.figure(figsize=(8, 6))\n",
        "sns.scatterplot(data=df_products, x=\"Title Length\", y=\"Rating\")\n",
        "plt.title(\"Title Length vs. Rating\")\n",
        "plt.xlabel(\"Title Length (number of characters)\")\n",
        "plt.ylabel(\"Rating\")\n",
        "plt.tight_layout()\n",
        "plt.show()\n"
      ],
      "metadata": {
        "colab": {
          "base_uri": "https://localhost:8080/",
          "height": 601
        },
        "id": "2m-rxo7FLrRO",
        "outputId": "6300874d-1d01-489e-fe08-57202b793ad9"
      },
      "execution_count": 21,
      "outputs": [
        {
          "output_type": "display_data",
          "data": {
            "text/plain": [
              "<Figure size 800x600 with 1 Axes>"
            ],
            "image/png": "[encoded data removed]"
          },
          "metadata": {}
        }
      ]
    },
    {
      "cell_type": "code",
      "source": [
        "# Drop NA rows to ensure valid scoring\n",
        "df_ranked = df_products.dropna(subset=[\"Rating\", \"Reviews\", \"Price (USD)\"]).copy()\n",
        "\n",
        "# Normalize all metrics to 0~1 range\n",
        "df_ranked[\"Score_Rating\"] = df_ranked[\"Rating\"] / df_ranked[\"Rating\"].max()\n",
        "df_ranked[\"Score_Reviews\"] = df_ranked[\"Reviews\"] / df_ranked[\"Reviews\"].max()\n",
        "df_ranked[\"Score_Price\"] = 1 - (df_ranked[\"Price (USD)\"] / df_ranked[\"Price (USD)\"].max())  # Lower price = higher score\n",
        "\n",
        "# Compute final score with weighted average\n",
        "df_ranked[\"Composite Score\"] = (\n",
        "    0.5 * df_ranked[\"Score_Rating\"] +\n",
        "    0.3 * df_ranked[\"Score_Reviews\"] +\n",
        "    0.2 * df_ranked[\"Score_Price\"]\n",
        ")\n",
        "\n",
        "# Sort products by composite score\n",
        "df_ranked = df_ranked.sort_values(by=\"Composite Score\", ascending=False)\n",
        "df_ranked.reset_index(drop=True, inplace=True)\n"
      ],
      "metadata": {
        "id": "ds7e-pWfL4MF"
      },
      "execution_count": 22,
      "outputs": []
    },
    {
      "cell_type": "code",
      "source": [
        "df_ranked[[\"Title\", \"Price (USD)\", \"Rating\", \"Reviews\", \"Composite Score\"]].head(5)\n"
      ],
      "metadata": {
        "colab": {
          "base_uri": "https://localhost:8080/",
          "height": 310
        },
        "id": "ODBAPqF0L7to",
        "outputId": "1457c63f-9eae-48da-d672-326d9ea021a3"
      },
      "execution_count": 23,
      "outputs": [
        {
          "output_type": "execute_result",
          "data": {
            "text/plain": [
              "                                                                                                 Title  \\\n",
              "0  Wall Charger, Surge Protector, QINLIANF 5 Outlet Extender with 4 USB Charging Ports (4.8A Total)...   \n",
              "1                    Roku Express 4K+ | Roku Streaming Device 4K/HDR with Voice Remote, Free & Live TV   \n",
              "2  Roku Streaming Stick 4K | Portable Roku Streaming Device 4K/HDR/Dolby Vision with Voice Remote, ...   \n",
              "3  JBL Tune 510BT - Bluetooth headphones with up to 40 hours battery, microphone for call, foldable...   \n",
              "4  Amazon Fire TV Stick 4K (newest model) with AI-powered Fire TV Search, Wi-Fi 6, stream over 1.5 ...   \n",
              "\n",
              "   Price (USD)  Rating  Reviews  Composite Score  \n",
              "0         9.98     4.7    95113         0.979078  \n",
              "1        28.97     4.7    93236         0.953167  \n",
              "2        38.00     4.7    89699         0.932505  \n",
              "3        29.95     4.5    74339         0.871698  \n",
              "4        29.99     4.7    63184         0.857305  "
            ],
            "text/html": [
              "\n",
              "  <div id=\"df-116bc85b-6fe7-42cd-b29d-a12d726016f0\" class=\"colab-df-container\">\n",
              "    <div>\n",
              "<style scoped>\n",
              "    .dataframe tbody tr th:only-of-type {\n",
              "        vertical-align: middle;\n",
              "    }\n",
              "\n",
              "    .dataframe tbody tr th {\n",
              "        vertical-align: top;\n",
              "    }\n",
              "\n",
              "    .dataframe thead th {\n",
              "        text-align: right;\n",
              "    }\n",
              "</style>\n",
              "<table border=\"1\" class=\"dataframe\">\n",
              "  <thead>\n",
              "    <tr style=\"text-align: right;\">\n",
              "      <th></th>\n",
              "      <th>Title</th>\n",
              "      <th>Price (USD)</th>\n",
              "      <th>Rating</th>\n",
              "      <th>Reviews</th>\n",
              "      <th>Composite Score</th>\n",
              "    </tr>\n",
              "  </thead>\n",
              "  <tbody>\n",
              "    <tr>\n",
              "      <th>0</th>\n",
              "      <td>Wall Charger, Surge Protector, QINLIANF 5 Outlet Extender with 4 USB Charging Ports (4.8A Total)...</td>\n",
              "      <td>9.98</td>\n",
              "      <td>4.7</td>\n",
              "      <td>95113</td>\n",
              "      <td>0.979078</td>\n",
              "    </tr>\n",
              "    <tr>\n",
              "      <th>1</th>\n",
              "      <td>Roku Express 4K+ | Roku Streaming Device 4K/HDR with Voice Remote, Free &amp; Live TV</td>\n",
              "      <td>28.97</td>\n",
              "      <td>4.7</td>\n",
              "      <td>93236</td>\n",
              "      <td>0.953167</td>\n",
              "    </tr>\n",
              "    <tr>\n",
              "      <th>2</th>\n",
              "      <td>Roku Streaming Stick 4K | Portable Roku Streaming Device 4K/HDR/Dolby Vision with Voice Remote, ...</td>\n",
              "      <td>38.00</td>\n",
              "      <td>4.7</td>\n",
              "      <td>89699</td>\n",
              "      <td>0.932505</td>\n",
              "    </tr>\n",
              "    <tr>\n",
              "      <th>3</th>\n",
              "      <td>JBL Tune 510BT - Bluetooth headphones with up to 40 hours battery, microphone for call, foldable...</td>\n",
              "      <td>29.95</td>\n",
              "      <td>4.5</td>\n",
              "      <td>74339</td>\n",
              "      <td>0.871698</td>\n",
              "    </tr>\n",
              "    <tr>\n",
              "      <th>4</th>\n",
              "      <td>Amazon Fire TV Stick 4K (newest model) with AI-powered Fire TV Search, Wi-Fi 6, stream over 1.5 ...</td>\n",
              "      <td>29.99</td>\n",
              "      <td>4.7</td>\n",
              "      <td>63184</td>\n",
              "      <td>0.857305</td>\n",
              "    </tr>\n",
              "  </tbody>\n",
              "</table>\n",
              "</div>\n",
              "    <div class=\"colab-df-buttons\">\n",
              "\n",
              "  <div class=\"colab-df-container\">\n",
              "    <button class=\"colab-df-convert\" onclick=\"convertToInteractive('df-116bc85b-6fe7-42cd-b29d-a12d726016f0')\"\n",
              "            title=\"Convert this dataframe to an interactive table.\"\n",
              "            style=\"display:none;\">\n",
              "\n",
              "  <svg xmlns=\"http://www.w3.org/2000/svg\" height=\"24px\" viewBox=\"0 -960 960 960\">\n",
              "    <path d=\"M120-120v-720h720v720H120Zm60-500h600v-160H180v160Zm220 220h160v-160H400v160Zm0 220h160v-160H400v160ZM180-400h160v-160H180v160Zm440 0h160v-160H620v160ZM180-180h160v-160H180v160Zm440 0h160v-160H620v160Z\"/>\n",
              "  </svg>\n",
              "    </button>\n",
              "\n",
              "  <style>\n",
              "    .colab-df-container {\n",
              "      display:flex;\n",
              "      gap: 12px;\n",
              "    }\n",
              "\n",
              "    .colab-df-convert {\n",
              "      background-color: #E8F0FE;\n",
              "      border: none;\n",
              "      border-radius: 50%;\n",
              "      cursor: pointer;\n",
              "      display: none;\n",
              "      fill: #1967D2;\n",
              "      height: 32px;\n",
              "      padding: 0 0 0 0;\n",
              "      width: 32px;\n",
              "    }\n",
              "\n",
              "    .colab-df-convert:hover {\n",
              "      background-color: #E2EBFA;\n",
              "      box-shadow: 0px 1px 2px rgba(60, 64, 67, 0.3), 0px 1px 3px 1px rgba(60, 64, 67, 0.15);\n",
              "      fill: #174EA6;\n",
              "    }\n",
              "\n",
              "    .colab-df-buttons div {\n",
              "      margin-bottom: 4px;\n",
              "    }\n",
              "\n",
              "    [theme=dark] .colab-df-convert {\n",
              "      background-color: #3B4455;\n",
              "      fill: #D2E3FC;\n",
              "    }\n",
              "\n",
              "    [theme=dark] .colab-df-convert:hover {\n",
              "      background-color: #434B5C;\n",
              "      box-shadow: 0px 1px 3px 1px rgba(0, 0, 0, 0.15);\n",
              "      filter: drop-shadow(0px 1px 2px rgba(0, 0, 0, 0.3));\n",
              "      fill: #FFFFFF;\n",
              "    }\n",
              "  </style>\n",
              "\n",
              "    <script>\n",
              "      const buttonEl =\n",
              "        document.querySelector('#df-116bc85b-6fe7-42cd-b29d-a12d726016f0 button.colab-df-convert');\n",
              "      buttonEl.style.display =\n",
              "        google.colab.kernel.accessAllowed ? 'block' : 'none';\n",
              "\n",
              "      async function convertToInteractive(key) {\n",
              "        const element = document.querySelector('#df-116bc85b-6fe7-42cd-b29d-a12d726016f0');\n",
              "        const dataTable =\n",
              "          await google.colab.kernel.invokeFunction('convertToInteractive',\n",
              "                                                    [key], {});\n",
              "        if (!dataTable) return;\n",
              "\n",
              "        const docLinkHtml = 'Like what you see? Visit the ' +\n",
              "          '<a target=\"_blank\" href=https://colab.research.google.com/notebooks/data_table.ipynb>data table notebook</a>'\n",
              "          + ' to learn more about interactive tables.';\n",
              "        element.innerHTML = '';\n",
              "        dataTable['output_type'] = 'display_data';\n",
              "        await google.colab.output.renderOutput(dataTable, element);\n",
              "        const docLink = document.createElement('div');\n",
              "        docLink.innerHTML = docLinkHtml;\n",
              "        element.appendChild(docLink);\n",
              "      }\n",
              "    </script>\n",
              "  </div>\n",
              "\n",
              "\n",
              "<div id=\"df-27a4fa40-06a9-4760-b846-9a800040fe71\">\n",
              "  <button class=\"colab-df-quickchart\" onclick=\"quickchart('df-27a4fa40-06a9-4760-b846-9a800040fe71')\"\n",
              "            title=\"Suggest charts\"\n",
              "            style=\"display:none;\">\n",
              "\n",
              "<svg xmlns=\"http://www.w3.org/2000/svg\" height=\"24px\"viewBox=\"0 0 24 24\"\n",
              "     width=\"24px\">\n",
              "    <g>\n",
              "        <path d=\"M19 3H5c-1.1 0-2 .9-2 2v14c0 1.1.9 2 2 2h14c1.1 0 2-.9 2-2V5c0-1.1-.9-2-2-2zM9 17H7v-7h2v7zm4 0h-2V7h2v10zm4 0h-2v-4h2v4z\"/>\n",
              "    </g>\n",
              "</svg>\n",
              "  </button>\n",
              "\n",
              "<style>\n",
              "  .colab-df-quickchart {\n",
              "      --bg-color: #E8F0FE;\n",
              "      --fill-color: #1967D2;\n",
              "      --hover-bg-color: #E2EBFA;\n",
              "      --hover-fill-color: #174EA6;\n",
              "      --disabled-fill-color: #AAA;\n",
              "      --disabled-bg-color: #DDD;\n",
              "  }\n",
              "\n",
              "  [theme=dark] .colab-df-quickchart {\n",
              "      --bg-color: #3B4455;\n",
              "      --fill-color: #D2E3FC;\n",
              "      --hover-bg-color: #434B5C;\n",
              "      --hover-fill-color: #FFFFFF;\n",
              "      --disabled-bg-color: #3B4455;\n",
              "      --disabled-fill-color: #666;\n",
              "  }\n",
              "\n",
              "  .colab-df-quickchart {\n",
              "    background-color: var(--bg-color);\n",
              "    border: none;\n",
              "    border-radius: 50%;\n",
              "    cursor: pointer;\n",
              "    display: none;\n",
              "    fill: var(--fill-color);\n",
              "    height: 32px;\n",
              "    padding: 0;\n",
              "    width: 32px;\n",
              "  }\n",
              "\n",
              "  .colab-df-quickchart:hover {\n",
              "    background-color: var(--hover-bg-color);\n",
              "    box-shadow: 0 1px 2px rgba(60, 64, 67, 0.3), 0 1px 3px 1px rgba(60, 64, 67, 0.15);\n",
              "    fill: var(--button-hover-fill-color);\n",
              "  }\n",
              "\n",
              "  .colab-df-quickchart-complete:disabled,\n",
              "  .colab-df-quickchart-complete:disabled:hover {\n",
              "    background-color: var(--disabled-bg-color);\n",
              "    fill: var(--disabled-fill-color);\n",
              "    box-shadow: none;\n",
              "  }\n",
              "\n",
              "  .colab-df-spinner {\n",
              "    border: 2px solid var(--fill-color);\n",
              "    border-color: transparent;\n",
              "    border-bottom-color: var(--fill-color);\n",
              "    animation:\n",
              "      spin 1s steps(1) infinite;\n",
              "  }\n",
              "\n",
              "  @keyframes spin {\n",
              "    0% {\n",
              "      border-color: transparent;\n",
              "      border-bottom-color: var(--fill-color);\n",
              "      border-left-color: var(--fill-color);\n",
              "    }\n",
              "    20% {\n",
              "      border-color: transparent;\n",
              "      border-left-color: var(--fill-color);\n",
              "      border-top-color: var(--fill-color);\n",
              "    }\n",
              "    30% {\n",
              "      border-color: transparent;\n",
              "      border-left-color: var(--fill-color);\n",
              "      border-top-color: var(--fill-color);\n",
              "      border-right-color: var(--fill-color);\n",
              "    }\n",
              "    40% {\n",
              "      border-color: transparent;\n",
              "      border-right-color: var(--fill-color);\n",
              "      border-top-color: var(--fill-color);\n",
              "    }\n",
              "    60% {\n",
              "      border-color: transparent;\n",
              "      border-right-color: var(--fill-color);\n",
              "    }\n",
              "    80% {\n",
              "      border-color: transparent;\n",
              "      border-right-color: var(--fill-color);\n",
              "      border-bottom-color: var(--fill-color);\n",
              "    }\n",
              "    90% {\n",
              "      border-color: transparent;\n",
              "      border-bottom-color: var(--fill-color);\n",
              "    }\n",
              "  }\n",
              "</style>\n",
              "\n",
              "  <script>\n",
              "    async function quickchart(key) {\n",
              "      const quickchartButtonEl =\n",
              "        document.querySelector('#' + key + ' button');\n",
              "      quickchartButtonEl.disabled = true;  // To prevent multiple clicks.\n",
              "      quickchartButtonEl.classList.add('colab-df-spinner');\n",
              "      try {\n",
              "        const charts = await google.colab.kernel.invokeFunction(\n",
              "            'suggestCharts', [key], {});\n",
              "      } catch (error) {\n",
              "        console.error('Error during call to suggestCharts:', error);\n",
              "      }\n",
              "      quickchartButtonEl.classList.remove('colab-df-spinner');\n",
              "      quickchartButtonEl.classList.add('colab-df-quickchart-complete');\n",
              "    }\n",
              "    (() => {\n",
              "      let quickchartButtonEl =\n",
              "        document.querySelector('#df-27a4fa40-06a9-4760-b846-9a800040fe71 button');\n",
              "      quickchartButtonEl.style.display =\n",
              "        google.colab.kernel.accessAllowed ? 'block' : 'none';\n",
              "    })();\n",
              "  </script>\n",
              "</div>\n",
              "\n",
              "    </div>\n",
              "  </div>\n"
            ],
            "application/vnd.google.colaboratory.intrinsic+json": {
              "type": "dataframe",
              "summary": "{\n  \"name\": \"df_ranked[[\\\"Title\\\", \\\"Price (USD)\\\", \\\"Rating\\\", \\\"Reviews\\\", \\\"Composite Score\\\"]]\",\n  \"rows\": 5,\n  \"fields\": [\n    {\n      \"column\": \"Title\",\n      \"properties\": {\n        \"dtype\": \"string\",\n        \"num_unique_values\": 5,\n        \"samples\": [\n          \"Roku Express 4K+ | Roku Streaming Device 4K/HDR with Voice Remote, Free & Live TV\",\n          \"Amazon Fire TV Stick 4K (newest model) with AI-powered Fire TV Search, Wi-Fi 6, stream over 1.5 million movies and shows, free & live TV\",\n          \"Roku Streaming Stick 4K | Portable Roku Streaming Device 4K/HDR/Dolby Vision with Voice Remote, Free & Live TV\"\n        ],\n        \"semantic_type\": \"\",\n        \"description\": \"\"\n      }\n    },\n    {\n      \"column\": \"Price (USD)\",\n      \"properties\": {\n        \"dtype\": \"number\",\n        \"std\": 10.386162428924361,\n        \"min\": 9.98,\n        \"max\": 38.0,\n        \"num_unique_values\": 5,\n        \"samples\": [\n          28.97,\n          29.99,\n          38.0\n        ],\n        \"semantic_type\": \"\",\n        \"description\": \"\"\n      }\n    },\n    {\n      \"column\": \"Rating\",\n      \"properties\": {\n        \"dtype\": \"number\",\n        \"std\": 0.08944271909999167,\n        \"min\": 4.5,\n        \"max\": 4.7,\n        \"num_unique_values\": 2,\n        \"samples\": [\n          4.5,\n          4.7\n        ],\n        \"semantic_type\": \"\",\n        \"description\": \"\"\n      }\n    },\n    {\n      \"column\": \"Reviews\",\n      \"properties\": {\n        \"dtype\": \"number\",\n        \"std\": 13820,\n        \"min\": 63184,\n        \"max\": 95113,\n        \"num_unique_values\": 5,\n        \"samples\": [\n          93236,\n          63184\n        ],\n        \"semantic_type\": \"\",\n        \"description\": \"\"\n      }\n    },\n    {\n      \"column\": \"Composite Score\",\n      \"properties\": {\n        \"dtype\": \"number\",\n        \"std\": 0.05244651229273108,\n        \"min\": 0.8573046199108671,\n        \"max\": 0.9790775172377493,\n        \"num_unique_values\": 5,\n        \"samples\": [\n          0.9531666650719421,\n          0.8573046199108671\n        ],\n        \"semantic_type\": \"\",\n        \"description\": \"\"\n      }\n    }\n  ]\n}"
            }
          },
          "metadata": {},
          "execution_count": 23
        }
      ]
    },
    {
      "cell_type": "code",
      "source": [
        "#recommendation summary\n",
        "def summarize_product(row):\n",
        "    return f\"• {row['Title']}\\n  - Price: ${row['Price (USD)']:.2f}\\n  - Rating: {row['Rating']} ({row['Reviews']} reviews)\"\n",
        "\n",
        "top5_cards = df_ranked.head(5).apply(summarize_product, axis=1)\n",
        "\n",
        "for i, card in enumerate(top5_cards, 1):\n",
        "    print(f\"Recommendation #{i}:\\n{card}\\n\")\n"
      ],
      "metadata": {
        "colab": {
          "base_uri": "https://localhost:8080/"
        },
        "id": "2cz0FAZFL_iT",
        "outputId": "2897a89e-44a2-4a9e-9d04-f298dcb1df82"
      },
      "execution_count": 24,
      "outputs": [
        {
          "output_type": "stream",
          "name": "stdout",
          "text": [
            "Recommendation #1:\n",
            "• Wall Charger, Surge Protector, QINLIANF 5 Outlet Extender with 4 USB Charging Ports (4.8A Total) 3-Sided 1680J Power Strip Multi Plug Adapter Spaced for Home Travel Office (3U1C)\n",
            "  - Price: $9.98\n",
            "  - Rating: 4.7 (95113 reviews)\n",
            "\n",
            "Recommendation #2:\n",
            "• Roku Express 4K+ | Roku Streaming Device 4K/HDR with Voice Remote, Free & Live TV\n",
            "  - Price: $28.97\n",
            "  - Rating: 4.7 (93236 reviews)\n",
            "\n",
            "Recommendation #3:\n",
            "• Roku Streaming Stick 4K | Portable Roku Streaming Device 4K/HDR/Dolby Vision with Voice Remote, Free & Live TV\n",
            "  - Price: $38.00\n",
            "  - Rating: 4.7 (89699 reviews)\n",
            "\n",
            "Recommendation #4:\n",
            "• JBL Tune 510BT - Bluetooth headphones with up to 40 hours battery, microphone for call, foldable and comfortable, Android and iOs compatible (Black)\n",
            "  - Price: $29.95\n",
            "  - Rating: 4.5 (74339 reviews)\n",
            "\n",
            "Recommendation #5:\n",
            "• Amazon Fire TV Stick 4K (newest model) with AI-powered Fire TV Search, Wi-Fi 6, stream over 1.5 million movies and shows, free & live TV\n",
            "  - Price: $29.99\n",
            "  - Rating: 4.7 (63184 reviews)\n",
            "\n"
          ]
        }
      ]
    },
    {
      "cell_type": "code",
      "source": [
        "# price distribution\n",
        "plt.figure(figsize=(8, 5))\n",
        "sns.histplot(df_products[\"Price (USD)\"].dropna(), bins=10, kde=True)\n",
        "plt.title(\"Price Distribution\")\n",
        "plt.xlabel(\"Price (USD)\")\n",
        "plt.ylabel(\"Count\")\n",
        "plt.tight_layout()\n",
        "plt.savefig(\"price_distribution.png\")\n",
        "plt.close()\n"
      ],
      "metadata": {
        "id": "Gai9dF34MWpb"
      },
      "execution_count": 25,
      "outputs": []
    },
    {
      "cell_type": "code",
      "source": [
        "plt.figure(figsize=(8, 5))\n",
        "sns.histplot(df_products[\"Rating\"].dropna(), bins=10, kde=True)\n",
        "plt.title(\"Rating Distribution of Amazon Electronics Bestsellers\")\n",
        "plt.xlabel(\"Rating\")\n",
        "plt.ylabel(\"Number of Products\")\n",
        "plt.tight_layout()\n",
        "plt.savefig(\"rating_distribution.png\")\n",
        "plt.close()\n"
      ],
      "metadata": {
        "id": "xamEDctbMdYx"
      },
      "execution_count": 26,
      "outputs": []
    },
    {
      "cell_type": "code",
      "source": [
        "plt.figure(figsize=(8, 6))\n",
        "sns.scatterplot(data=df_products, x=\"Price (USD)\", y=\"Rating\")\n",
        "plt.title(\"Price vs. Rating\")\n",
        "plt.xlabel(\"Price (USD)\")\n",
        "plt.ylabel(\"Rating\")\n",
        "plt.tight_layout()\n",
        "plt.savefig(\"price_vs_rating.png\")\n",
        "plt.close()\n"
      ],
      "metadata": {
        "id": "ycAZjVrCMfZJ"
      },
      "execution_count": 27,
      "outputs": []
    },
    {
      "cell_type": "code",
      "source": [
        "plt.figure(figsize=(8, 6))\n",
        "sns.scatterplot(data=df_products, x=\"Price (USD)\", y=\"Reviews\")\n",
        "plt.title(\"Price vs. Number of Reviews\")\n",
        "plt.xlabel(\"Price (USD)\")\n",
        "plt.ylabel(\"Number of Reviews\")\n",
        "plt.tight_layout()\n",
        "plt.savefig(\"price_vs_reviews.png\")\n",
        "plt.close()\n"
      ],
      "metadata": {
        "id": "-6yMn8JkMhM7"
      },
      "execution_count": 28,
      "outputs": []
    },
    {
      "cell_type": "code",
      "source": [
        "plt.figure(figsize=(8, 6))\n",
        "sns.scatterplot(data=df_products, x=\"Title Length\", y=\"Rating\")\n",
        "plt.title(\"Title Length vs. Rating\")\n",
        "plt.xlabel(\"Title Length (number of characters)\")\n",
        "plt.ylabel(\"Rating\")\n",
        "plt.tight_layout()\n",
        "plt.savefig(\"title_length_vs_rating.png\")\n",
        "plt.close()\n"
      ],
      "metadata": {
        "id": "85zyXVfgMi4N"
      },
      "execution_count": 29,
      "outputs": []
    },
    {
      "cell_type": "code",
      "source": [
        "#create pdf report\n",
        "from reportlab.lib.pagesizes import letter\n",
        "from reportlab.pdfgen import canvas\n",
        "\n",
        "def generate_pdf_report(filename=\"Amazon_Electronics_Report.pdf\"):\n",
        "    c = canvas.Canvas(filename, pagesize=letter)\n",
        "    width, height = letter\n",
        "\n",
        "    # Title\n",
        "    c.setFont(\"Helvetica-Bold\", 20)\n",
        "    c.drawString(50, height - 60, \"Amazon Electronics Bestseller Analysis Report\")\n",
        "\n",
        "    # Section 1 - Price Distribution Chart\n",
        "    c.setFont(\"Helvetica-Bold\", 14)\n",
        "    c.drawString(50, height - 100, \"1. Price Distribution\")\n",
        "    c.drawImage(\"price_distribution.png\", 50, height - 400, width=500, height=250)\n",
        "\n",
        "    # Section 2 - Rating Distribution\n",
        "    c.drawString(50, height - 430, \"2. Rating Distribution\")\n",
        "    c.drawImage(\"rating_distribution.png\", 50, height - 730, width=500, height=250)\n",
        "\n",
        "    c.showPage()\n",
        "\n",
        "    # Section 3 - Scatter Plots\n",
        "    c.drawString(50, height - 60, \"3. Price vs Rating\")\n",
        "    c.drawImage(\"price_vs_rating.png\", 50, height - 350, width=500, height=250)\n",
        "\n",
        "    c.drawString(50, height - 380, \"4. Price vs Reviews\")\n",
        "    c.drawImage(\"price_vs_reviews.png\", 50, height - 670, width=500, height=250)\n",
        "\n",
        "    c.showPage()\n",
        "\n",
        "    # Section 4 - Product Recommendations\n",
        "    c.setFont(\"Helvetica-Bold\", 14)\n",
        "    c.drawString(50, height - 60, \"5. Top Product Recommendations\")\n",
        "\n",
        "    c.setFont(\"Helvetica\", 11)\n",
        "    y = height - 90\n",
        "    for i, row in df_ranked.head(5).iterrows():\n",
        "        c.drawString(60, y, f\"{i+1}. {row['Title'][:80]}\")\n",
        "        y -= 20\n",
        "        c.drawString(80, y, f\"   Price: ${row['Price (USD)']:.2f}, Rating: {row['Rating']}, Reviews: {row['Reviews']}\")\n",
        "        y -= 30\n",
        "        if y < 100:\n",
        "            c.showPage()\n",
        "            y = height - 60\n",
        "\n",
        "    c.save()\n",
        "\n",
        "generate_pdf_report()\n"
      ],
      "metadata": {
        "id": "WPTRrawIMmag"
      },
      "execution_count": 31,
      "outputs": []
    },
    {
      "cell_type": "code",
      "source": [
        "#download pdf report\n",
        "from google.colab import files\n",
        "files.download(\"Amazon_Electronics_Report.pdf\")\n"
      ],
      "metadata": {
        "colab": {
          "base_uri": "https://localhost:8080/",
          "height": 17
        },
        "id": "ulxoJhYxNEk4",
        "outputId": "3105750a-5fc1-4d60-aa6a-f635c37dfa4b"
      },
      "execution_count": 32,
      "outputs": [
        {
          "output_type": "display_data",
          "data": {
            "text/plain": [
              "<IPython.core.display.Javascript object>"
            ],
            "application/javascript": [
              "\n",
              "    async function download(id, filename, size) {\n",
              "      if (!google.colab.kernel.accessAllowed) {\n",
              "        return;\n",
              "      }\n",
              "      const div = document.createElement('div');\n",
              "      const label = document.createElement('label');\n",
              "      label.textContent = `Downloading \"${filename}\": `;\n",
              "      div.appendChild(label);\n",
              "      const progress = document.createElement('progress');\n",
              "      progress.max = size;\n",
              "      div.appendChild(progress);\n",
              "      document.body.appendChild(div);\n",
              "\n",
              "      const buffers = [];\n",
              "      let downloaded = 0;\n",
              "\n",
              "      const channel = await google.colab.kernel.comms.open(id);\n",
              "      // Send a message to notify the kernel that we're ready.\n",
              "      channel.send({})\n",
              "\n",
              "      for await (const message of channel.messages) {\n",
              "        // Send a message to notify the kernel that we're ready.\n",
              "        channel.send({})\n",
              "        if (message.buffers) {\n",
              "          for (const buffer of message.buffers) {\n",
              "            buffers.push(buffer);\n",
              "            downloaded += buffer.byteLength;\n",
              "            progress.value = downloaded;\n",
              "          }\n",
              "        }\n",
              "      }\n",
              "      const blob = new Blob(buffers, {type: 'application/binary'});\n",
              "      const a = document.createElement('a');\n",
              "      a.href = window.URL.createObjectURL(blob);\n",
              "      a.download = filename;\n",
              "      div.appendChild(a);\n",
              "      a.click();\n",
              "      div.remove();\n",
              "    }\n",
              "  "
            ]
          },
          "metadata": {}
        },
        {
          "output_type": "display_data",
          "data": {
            "text/plain": [
              "<IPython.core.display.Javascript object>"
            ],
            "application/javascript": [
              "download(\"download_235426f3-0b2c-46cc-b09c-1cbc4fbe4d59\", \"Amazon_Electronics_Report.pdf\", 118821)"
            ]
          },
          "metadata": {}
        }
      ]
    }
  ]
}